{
 "cells": [
  {
   "cell_type": "markdown",
   "id": "3a62c41d",
   "metadata": {},
   "source": [
    "# Data Cleaning Studio\n",
    "\n",
    "You are part of a team working for an agricultural nonprofit based in California. Your nonprofit focuses on helping farmers in the state grow profitable crops in environmentally-friendly ways in an effort to reduce the impact of climate change on the state and provide enough food for the state's 39.5 million residents. With Halloween on the horizon, you and your team are looking to analyze past pumpkin crops to try and answer several questions:\n",
    "1. Are pumpkins sold at terminal markets in California (San Francisco and Los Angeles) grown in California?\n",
    "1. Is the harvest season for pumpkins grown in California consistent year-to-year?\n",
    "1. Are pumpkin farmers growing specific varieties of pumpkins for specific reasons?\n",
    "\n",
    "The answers to these questions will help your nonprofit decide if they should promote specific varieties or growing practices to the farmers they serve in time for seeds to be planted next year. Your team has already performed some exploratory analysis on the San Francisco terminal market report of pumpkin sales from 9/2016-9/2017. Now it is time to clean the data!\n",
    "\n",
    "Before diving in to cleaning the data, here is a quick guide to the different columns in the USDA report and what they mean:\n",
    "- Commodity Name: This CSV structure is used for lots of USDA reports. In this case, the commodity is pumpkins\n",
    "- City Name: City where the pumpkin was sold. The city is a terminal market location within the United States.\n",
    "- Type: This refers to the type of farming used in growing the pumpkins\n",
    "- Package: The way the pumpkins were packed for sale\n",
    "- Variety: Specific type of pumpkin, i.e. pie pumpkin or a Howden pumpkin\n",
    "- Sub Variety: Addition classifications about the pumpkins, i.e. is it a flat pumpkin?\n",
    "- Grade: In the US, usually only canned pumpkin is graded\n",
    "- Date: Date of sale (rounded up to the nearest Saturday)\n",
    "- Low Price: This price is in reference to sale price\n",
    "- High Price: This price is in reference to sale price\n",
    "- Mostly Low: This column is not measured for pumpkins\n",
    "- Mostly High: This column is not measured for pumpkins\n",
    "- Origin: Which state the pumpkins were grown in\n",
    "- Origin District: Additional information about pumpkins' origin location\n",
    "- Item Size: Abbreviations denoting size, i.e. jbo = jumbo, lrg = large\n",
    "- Color: Color of pumpkins\n",
    "- Environment: Additional information about pumpkins' growing environment\n",
    "- Unit of Sale: The unit the customer bought at market, i.e. if they bought pumpkins by the pound, the data should say \"PER LB\" or  if they bought pumpkins by the bin, it would say \"PER BIN\"\n",
    "- Quality: Additional notes about pumpkin quality as necessary\n",
    "- Condition: Additional notes about pumpkin condition as necessary\n",
    "- Appearance: Additional notes about pumpkin appearance as necessary\n",
    "- Storage: Additional notes about pumpkin storage as necessary\n",
    "- Crop: Additional notes about pumpkin crop as necessary\n",
    "- Repack: Whether the pumpkin has been repackaged before sale\n",
    "- Trans Mode: Mode of transportation used to get pumpkins to terminal market"
   ]
  },
  {
   "cell_type": "code",
   "execution_count": 1,
   "id": "f15f403d",
   "metadata": {
    "tags": []
   },
   "outputs": [],
   "source": [
    "import pandas as pd\n",
    "import matplotlib \n",
    "import matplotlib.pyplot as plt\n",
    "import numpy as np\n",
    "\n",
    "data = pd.read_csv(\"san-fransisco_9-24-2016_9-30-2017.csv\")"
   ]
  },
  {
   "cell_type": "code",
   "execution_count": 2,
   "id": "c57d63be",
   "metadata": {},
   "outputs": [
    {
     "data": {
      "text/html": [
       "<div>\n",
       "<style scoped>\n",
       "    .dataframe tbody tr th:only-of-type {\n",
       "        vertical-align: middle;\n",
       "    }\n",
       "\n",
       "    .dataframe tbody tr th {\n",
       "        vertical-align: top;\n",
       "    }\n",
       "\n",
       "    .dataframe thead th {\n",
       "        text-align: right;\n",
       "    }\n",
       "</style>\n",
       "<table border=\"1\" class=\"dataframe\">\n",
       "  <thead>\n",
       "    <tr style=\"text-align: right;\">\n",
       "      <th></th>\n",
       "      <th>Commodity Name</th>\n",
       "      <th>City Name</th>\n",
       "      <th>Type</th>\n",
       "      <th>Package</th>\n",
       "      <th>Variety</th>\n",
       "      <th>Sub Variety</th>\n",
       "      <th>Grade</th>\n",
       "      <th>Date</th>\n",
       "      <th>Low Price</th>\n",
       "      <th>High Price</th>\n",
       "      <th>...</th>\n",
       "      <th>Color</th>\n",
       "      <th>Environment</th>\n",
       "      <th>Unit of Sale</th>\n",
       "      <th>Quality</th>\n",
       "      <th>Condition</th>\n",
       "      <th>Appearance</th>\n",
       "      <th>Storage</th>\n",
       "      <th>Crop</th>\n",
       "      <th>Repack</th>\n",
       "      <th>Trans Mode</th>\n",
       "    </tr>\n",
       "  </thead>\n",
       "  <tbody>\n",
       "    <tr>\n",
       "      <th>0</th>\n",
       "      <td>PUMPKINS</td>\n",
       "      <td>SAN FRANCISCO</td>\n",
       "      <td>NaN</td>\n",
       "      <td>24 inch bins</td>\n",
       "      <td>HOWDEN TYPE</td>\n",
       "      <td>NaN</td>\n",
       "      <td>NaN</td>\n",
       "      <td>09/24/2016</td>\n",
       "      <td>155.0</td>\n",
       "      <td>155.0</td>\n",
       "      <td>...</td>\n",
       "      <td>NaN</td>\n",
       "      <td>NaN</td>\n",
       "      <td>NaN</td>\n",
       "      <td>NaN</td>\n",
       "      <td>NaN</td>\n",
       "      <td>NaN</td>\n",
       "      <td>NaN</td>\n",
       "      <td>NaN</td>\n",
       "      <td>N</td>\n",
       "      <td>NaN</td>\n",
       "    </tr>\n",
       "    <tr>\n",
       "      <th>1</th>\n",
       "      <td>PUMPKINS</td>\n",
       "      <td>SAN FRANCISCO</td>\n",
       "      <td>NaN</td>\n",
       "      <td>24 inch bins</td>\n",
       "      <td>HOWDEN TYPE</td>\n",
       "      <td>NaN</td>\n",
       "      <td>NaN</td>\n",
       "      <td>10/01/2016</td>\n",
       "      <td>155.0</td>\n",
       "      <td>155.0</td>\n",
       "      <td>...</td>\n",
       "      <td>NaN</td>\n",
       "      <td>NaN</td>\n",
       "      <td>NaN</td>\n",
       "      <td>NaN</td>\n",
       "      <td>NaN</td>\n",
       "      <td>NaN</td>\n",
       "      <td>NaN</td>\n",
       "      <td>NaN</td>\n",
       "      <td>N</td>\n",
       "      <td>NaN</td>\n",
       "    </tr>\n",
       "    <tr>\n",
       "      <th>2</th>\n",
       "      <td>PUMPKINS</td>\n",
       "      <td>SAN FRANCISCO</td>\n",
       "      <td>NaN</td>\n",
       "      <td>24 inch bins</td>\n",
       "      <td>HOWDEN TYPE</td>\n",
       "      <td>NaN</td>\n",
       "      <td>NaN</td>\n",
       "      <td>10/01/2016</td>\n",
       "      <td>155.0</td>\n",
       "      <td>155.0</td>\n",
       "      <td>...</td>\n",
       "      <td>NaN</td>\n",
       "      <td>NaN</td>\n",
       "      <td>NaN</td>\n",
       "      <td>NaN</td>\n",
       "      <td>NaN</td>\n",
       "      <td>NaN</td>\n",
       "      <td>NaN</td>\n",
       "      <td>NaN</td>\n",
       "      <td>N</td>\n",
       "      <td>NaN</td>\n",
       "    </tr>\n",
       "    <tr>\n",
       "      <th>3</th>\n",
       "      <td>PUMPKINS</td>\n",
       "      <td>SAN FRANCISCO</td>\n",
       "      <td>NaN</td>\n",
       "      <td>24 inch bins</td>\n",
       "      <td>HOWDEN TYPE</td>\n",
       "      <td>NaN</td>\n",
       "      <td>NaN</td>\n",
       "      <td>10/01/2016</td>\n",
       "      <td>135.0</td>\n",
       "      <td>135.0</td>\n",
       "      <td>...</td>\n",
       "      <td>NaN</td>\n",
       "      <td>NaN</td>\n",
       "      <td>NaN</td>\n",
       "      <td>NaN</td>\n",
       "      <td>NaN</td>\n",
       "      <td>NaN</td>\n",
       "      <td>NaN</td>\n",
       "      <td>NaN</td>\n",
       "      <td>N</td>\n",
       "      <td>NaN</td>\n",
       "    </tr>\n",
       "    <tr>\n",
       "      <th>4</th>\n",
       "      <td>PUMPKINS</td>\n",
       "      <td>SAN FRANCISCO</td>\n",
       "      <td>NaN</td>\n",
       "      <td>24 inch bins</td>\n",
       "      <td>HOWDEN TYPE</td>\n",
       "      <td>NaN</td>\n",
       "      <td>NaN</td>\n",
       "      <td>10/08/2016</td>\n",
       "      <td>135.0</td>\n",
       "      <td>150.0</td>\n",
       "      <td>...</td>\n",
       "      <td>NaN</td>\n",
       "      <td>NaN</td>\n",
       "      <td>NaN</td>\n",
       "      <td>NaN</td>\n",
       "      <td>NaN</td>\n",
       "      <td>NaN</td>\n",
       "      <td>NaN</td>\n",
       "      <td>NaN</td>\n",
       "      <td>N</td>\n",
       "      <td>NaN</td>\n",
       "    </tr>\n",
       "  </tbody>\n",
       "</table>\n",
       "<p>5 rows × 25 columns</p>\n",
       "</div>"
      ],
      "text/plain": [
       "  Commodity Name      City Name Type       Package      Variety Sub Variety  \\\n",
       "0       PUMPKINS  SAN FRANCISCO  NaN  24 inch bins  HOWDEN TYPE         NaN   \n",
       "1       PUMPKINS  SAN FRANCISCO  NaN  24 inch bins  HOWDEN TYPE         NaN   \n",
       "2       PUMPKINS  SAN FRANCISCO  NaN  24 inch bins  HOWDEN TYPE         NaN   \n",
       "3       PUMPKINS  SAN FRANCISCO  NaN  24 inch bins  HOWDEN TYPE         NaN   \n",
       "4       PUMPKINS  SAN FRANCISCO  NaN  24 inch bins  HOWDEN TYPE         NaN   \n",
       "\n",
       "   Grade        Date  Low Price  High Price  ...  Color  Environment  \\\n",
       "0    NaN  09/24/2016      155.0       155.0  ...    NaN          NaN   \n",
       "1    NaN  10/01/2016      155.0       155.0  ...    NaN          NaN   \n",
       "2    NaN  10/01/2016      155.0       155.0  ...    NaN          NaN   \n",
       "3    NaN  10/01/2016      135.0       135.0  ...    NaN          NaN   \n",
       "4    NaN  10/08/2016      135.0       150.0  ...    NaN          NaN   \n",
       "\n",
       "  Unit of Sale  Quality Condition Appearance  Storage  Crop  Repack  \\\n",
       "0          NaN      NaN       NaN        NaN      NaN   NaN       N   \n",
       "1          NaN      NaN       NaN        NaN      NaN   NaN       N   \n",
       "2          NaN      NaN       NaN        NaN      NaN   NaN       N   \n",
       "3          NaN      NaN       NaN        NaN      NaN   NaN       N   \n",
       "4          NaN      NaN       NaN        NaN      NaN   NaN       N   \n",
       "\n",
       "   Trans Mode  \n",
       "0         NaN  \n",
       "1         NaN  \n",
       "2         NaN  \n",
       "3         NaN  \n",
       "4         NaN  \n",
       "\n",
       "[5 rows x 25 columns]"
      ]
     },
     "execution_count": 2,
     "metadata": {},
     "output_type": "execute_result"
    }
   ],
   "source": [
    "data.head()"
   ]
  },
  {
   "cell_type": "code",
   "execution_count": 2,
   "id": "224ac9e3",
   "metadata": {
    "scrolled": true,
    "tags": []
   },
   "outputs": [
    {
     "name": "stdout",
     "output_type": "stream",
     "text": [
      "Commodity Name - 0%\n",
      "City Name - 0%\n",
      "Type - 78%\n",
      "Package - 0%\n",
      "Variety - 0%\n",
      "Sub Variety - 61%\n",
      "Grade - 100%\n",
      "Date - 0%\n",
      "Low Price - 0%\n",
      "High Price - 0%\n",
      "Mostly Low - 0%\n",
      "Mostly High - 0%\n",
      "Origin - 0%\n",
      "Origin District - 100%\n",
      "Item Size - 75%\n",
      "Color - 72%\n",
      "Environment - 100%\n",
      "Unit of Sale - 100%\n",
      "Quality - 100%\n",
      "Condition - 100%\n",
      "Appearance - 100%\n",
      "Storage - 100%\n",
      "Crop - 100%\n",
      "Repack - 0%\n",
      "Trans Mode - 100%\n"
     ]
    },
    {
     "data": {
      "text/plain": [
       "(166, 25)"
      ]
     },
     "execution_count": 2,
     "metadata": {},
     "output_type": "execute_result"
    }
   ],
   "source": [
    "for col in data.columns:\n",
    "    pct_missing = np.mean(data[col].isnull())\n",
    "    print('{} - {}%'.format(col, round(pct_missing*100)))\n",
    "data.shape"
   ]
  },
  {
   "cell_type": "code",
   "execution_count": 4,
   "id": "bbc182d9",
   "metadata": {
    "tags": []
   },
   "outputs": [
    {
     "name": "stdout",
     "output_type": "stream",
     "text": [
      "4150\n",
      "Commodity Name       0\n",
      "City Name            0\n",
      "Type               130\n",
      "Package              0\n",
      "Variety              0\n",
      "Sub Variety        102\n",
      "Grade              166\n",
      "Date                 0\n",
      "Low Price            0\n",
      "High Price           0\n",
      "Mostly Low           0\n",
      "Mostly High          0\n",
      "Origin               0\n",
      "Origin District    166\n",
      "Item Size          125\n",
      "Color              120\n",
      "Environment        166\n",
      "Unit of Sale       166\n",
      "Quality            166\n",
      "Condition          166\n",
      "Appearance         166\n",
      "Storage            166\n",
      "Crop               166\n",
      "Repack               0\n",
      "Trans Mode         166\n",
      "dtype: int64\n",
      "2137\n",
      "51.0 % Missing cells from the data\n"
     ]
    }
   ],
   "source": [
    "# Checking the overall percentage of missing data from the data set\n",
    "\n",
    "total_cells = np.product(data.shape)\n",
    "print(total_cells)\n",
    "\n",
    "missing_cells = pd.isnull(data).sum()\n",
    "print(missing_cells)\n",
    "\n",
    "total_missing = missing_cells.sum()\n",
    "print(total_missing)\n",
    "\n",
    "percentage_missing = round((total_missing/total_cells), 2) *100\n",
    "\n",
    "print(percentage_missing, \"% Missing cells from the data\")    "
   ]
  },
  {
   "cell_type": "markdown",
   "id": "e900b3e3",
   "metadata": {},
   "source": [
    "### Question 1: \n",
    "\n",
    "Look at the percentages of missing data per coluum.  There are quite a few columns with less than 100% of the data.  What do you want to do with each column?   Consider the following options for each and write down your thoughts in a box below this one.\n",
    "1. Drop the Observation\n",
    "1. Drop the Feature\n",
    "1. Impute the Missing Values\n",
    "1. Replace the Missing Values"
   ]
  },
  {
   "cell_type": "code",
   "execution_count": 5,
   "id": "9c80fb27",
   "metadata": {},
   "outputs": [],
   "source": [
    "# Answer Question 1 here:\n",
    "# item size column ha 75 % missing data.we can drop this\n",
    "# type column has 78% missing.we can impute this with mode values.coz type of farming is important to customers ,to choose  whether it organic,gmo or not.\n",
    "# sub vaiety coulm we can drop .coz with 61% missing data we can not imputate the  data correctly\n",
    "\n"
   ]
  },
  {
   "cell_type": "code",
   "execution_count": 3,
   "id": "c2965056",
   "metadata": {
    "tags": []
   },
   "outputs": [
    {
     "data": {
      "text/html": [
       "<div>\n",
       "<style scoped>\n",
       "    .dataframe tbody tr th:only-of-type {\n",
       "        vertical-align: middle;\n",
       "    }\n",
       "\n",
       "    .dataframe tbody tr th {\n",
       "        vertical-align: top;\n",
       "    }\n",
       "\n",
       "    .dataframe thead th {\n",
       "        text-align: right;\n",
       "    }\n",
       "</style>\n",
       "<table border=\"1\" class=\"dataframe\">\n",
       "  <thead>\n",
       "    <tr style=\"text-align: right;\">\n",
       "      <th></th>\n",
       "      <th>Commodity Name</th>\n",
       "      <th>City Name</th>\n",
       "      <th>Type</th>\n",
       "      <th>Package</th>\n",
       "      <th>Variety</th>\n",
       "      <th>Sub Variety</th>\n",
       "      <th>Grade</th>\n",
       "      <th>Date</th>\n",
       "      <th>Low Price</th>\n",
       "      <th>High Price</th>\n",
       "      <th>...</th>\n",
       "      <th>Color</th>\n",
       "      <th>Environment</th>\n",
       "      <th>Unit of Sale</th>\n",
       "      <th>Quality</th>\n",
       "      <th>Condition</th>\n",
       "      <th>Appearance</th>\n",
       "      <th>Storage</th>\n",
       "      <th>Crop</th>\n",
       "      <th>Repack</th>\n",
       "      <th>Trans Mode</th>\n",
       "    </tr>\n",
       "  </thead>\n",
       "  <tbody>\n",
       "    <tr>\n",
       "      <th>0</th>\n",
       "      <td>PUMPKINS</td>\n",
       "      <td>SAN FRANCISCO</td>\n",
       "      <td>NaN</td>\n",
       "      <td>24 inch bins</td>\n",
       "      <td>HOWDEN TYPE</td>\n",
       "      <td>NaN</td>\n",
       "      <td>NaN</td>\n",
       "      <td>09/24/2016</td>\n",
       "      <td>155.0</td>\n",
       "      <td>155.0</td>\n",
       "      <td>...</td>\n",
       "      <td>NaN</td>\n",
       "      <td>NaN</td>\n",
       "      <td>NaN</td>\n",
       "      <td>NaN</td>\n",
       "      <td>NaN</td>\n",
       "      <td>NaN</td>\n",
       "      <td>NaN</td>\n",
       "      <td>NaN</td>\n",
       "      <td>False</td>\n",
       "      <td>NaN</td>\n",
       "    </tr>\n",
       "    <tr>\n",
       "      <th>1</th>\n",
       "      <td>PUMPKINS</td>\n",
       "      <td>SAN FRANCISCO</td>\n",
       "      <td>NaN</td>\n",
       "      <td>24 inch bins</td>\n",
       "      <td>HOWDEN TYPE</td>\n",
       "      <td>NaN</td>\n",
       "      <td>NaN</td>\n",
       "      <td>10/01/2016</td>\n",
       "      <td>155.0</td>\n",
       "      <td>155.0</td>\n",
       "      <td>...</td>\n",
       "      <td>NaN</td>\n",
       "      <td>NaN</td>\n",
       "      <td>NaN</td>\n",
       "      <td>NaN</td>\n",
       "      <td>NaN</td>\n",
       "      <td>NaN</td>\n",
       "      <td>NaN</td>\n",
       "      <td>NaN</td>\n",
       "      <td>False</td>\n",
       "      <td>NaN</td>\n",
       "    </tr>\n",
       "    <tr>\n",
       "      <th>2</th>\n",
       "      <td>PUMPKINS</td>\n",
       "      <td>SAN FRANCISCO</td>\n",
       "      <td>NaN</td>\n",
       "      <td>24 inch bins</td>\n",
       "      <td>HOWDEN TYPE</td>\n",
       "      <td>NaN</td>\n",
       "      <td>NaN</td>\n",
       "      <td>10/01/2016</td>\n",
       "      <td>155.0</td>\n",
       "      <td>155.0</td>\n",
       "      <td>...</td>\n",
       "      <td>NaN</td>\n",
       "      <td>NaN</td>\n",
       "      <td>NaN</td>\n",
       "      <td>NaN</td>\n",
       "      <td>NaN</td>\n",
       "      <td>NaN</td>\n",
       "      <td>NaN</td>\n",
       "      <td>NaN</td>\n",
       "      <td>False</td>\n",
       "      <td>NaN</td>\n",
       "    </tr>\n",
       "  </tbody>\n",
       "</table>\n",
       "<p>3 rows × 25 columns</p>\n",
       "</div>"
      ],
      "text/plain": [
       "  Commodity Name      City Name Type       Package      Variety Sub Variety  \\\n",
       "0       PUMPKINS  SAN FRANCISCO  NaN  24 inch bins  HOWDEN TYPE         NaN   \n",
       "1       PUMPKINS  SAN FRANCISCO  NaN  24 inch bins  HOWDEN TYPE         NaN   \n",
       "2       PUMPKINS  SAN FRANCISCO  NaN  24 inch bins  HOWDEN TYPE         NaN   \n",
       "\n",
       "   Grade        Date  Low Price  High Price  ...  Color  Environment  \\\n",
       "0    NaN  09/24/2016      155.0       155.0  ...    NaN          NaN   \n",
       "1    NaN  10/01/2016      155.0       155.0  ...    NaN          NaN   \n",
       "2    NaN  10/01/2016      155.0       155.0  ...    NaN          NaN   \n",
       "\n",
       "  Unit of Sale  Quality Condition Appearance  Storage  Crop  Repack  \\\n",
       "0          NaN      NaN       NaN        NaN      NaN   NaN   False   \n",
       "1          NaN      NaN       NaN        NaN      NaN   NaN   False   \n",
       "2          NaN      NaN       NaN        NaN      NaN   NaN   False   \n",
       "\n",
       "   Trans Mode  \n",
       "0         NaN  \n",
       "1         NaN  \n",
       "2         NaN  \n",
       "\n",
       "[3 rows x 25 columns]"
      ]
     },
     "execution_count": 3,
     "metadata": {},
     "output_type": "execute_result"
    }
   ],
   "source": [
    "# Repack Column\n",
    "data[\"Repack\"] = data[\"Repack\"].replace({\"N\":False})\n",
    "#Check status with a quick head check\n",
    "data.head(3)"
   ]
  },
  {
   "cell_type": "markdown",
   "id": "a8f08339",
   "metadata": {},
   "source": [
    "# Question 2:\n",
    "\n",
    "Look at the \"Type\" column.  This column contains two values, \"Organic\" and \"NaN\".  \n",
    "When it comes to food, food is either typically designated as \"Organic\" or \"Conventional\" based on farming practices.  \n",
    "\n",
    "Do you think we should update the \"NaN\" values to \"Conventional\"?  Why or Why not?"
   ]
  },
  {
   "cell_type": "code",
   "execution_count": 7,
   "id": "b5b7c63c",
   "metadata": {},
   "outputs": [],
   "source": [
    "# Answers Question 2:\n",
    "#s, we can update nan with conventional.this tyep columns will check by customers if they want oraganic or not.it depends on sales.\n",
    "\n"
   ]
  },
  {
   "cell_type": "code",
   "execution_count": 8,
   "id": "9479f294",
   "metadata": {
    "tags": []
   },
   "outputs": [
    {
     "data": {
      "text/html": [
       "<div>\n",
       "<style scoped>\n",
       "    .dataframe tbody tr th:only-of-type {\n",
       "        vertical-align: middle;\n",
       "    }\n",
       "\n",
       "    .dataframe tbody tr th {\n",
       "        vertical-align: top;\n",
       "    }\n",
       "\n",
       "    .dataframe thead th {\n",
       "        text-align: right;\n",
       "    }\n",
       "</style>\n",
       "<table border=\"1\" class=\"dataframe\">\n",
       "  <thead>\n",
       "    <tr style=\"text-align: right;\">\n",
       "      <th></th>\n",
       "      <th>Commodity Name</th>\n",
       "      <th>City Name</th>\n",
       "      <th>Type</th>\n",
       "      <th>Package</th>\n",
       "      <th>Variety</th>\n",
       "      <th>Sub Variety</th>\n",
       "      <th>Grade</th>\n",
       "      <th>Date</th>\n",
       "      <th>Low Price</th>\n",
       "      <th>High Price</th>\n",
       "      <th>...</th>\n",
       "      <th>Color</th>\n",
       "      <th>Environment</th>\n",
       "      <th>Unit of Sale</th>\n",
       "      <th>Quality</th>\n",
       "      <th>Condition</th>\n",
       "      <th>Appearance</th>\n",
       "      <th>Storage</th>\n",
       "      <th>Crop</th>\n",
       "      <th>Repack</th>\n",
       "      <th>Trans Mode</th>\n",
       "    </tr>\n",
       "  </thead>\n",
       "  <tbody>\n",
       "    <tr>\n",
       "      <th>0</th>\n",
       "      <td>PUMPKINS</td>\n",
       "      <td>SAN FRANCISCO</td>\n",
       "      <td>Conventional</td>\n",
       "      <td>24 inch bins</td>\n",
       "      <td>HOWDEN TYPE</td>\n",
       "      <td>NaN</td>\n",
       "      <td>NaN</td>\n",
       "      <td>09/24/2016</td>\n",
       "      <td>155.0</td>\n",
       "      <td>155.0</td>\n",
       "      <td>...</td>\n",
       "      <td>NaN</td>\n",
       "      <td>NaN</td>\n",
       "      <td>NaN</td>\n",
       "      <td>NaN</td>\n",
       "      <td>NaN</td>\n",
       "      <td>NaN</td>\n",
       "      <td>NaN</td>\n",
       "      <td>NaN</td>\n",
       "      <td>False</td>\n",
       "      <td>NaN</td>\n",
       "    </tr>\n",
       "    <tr>\n",
       "      <th>1</th>\n",
       "      <td>PUMPKINS</td>\n",
       "      <td>SAN FRANCISCO</td>\n",
       "      <td>Conventional</td>\n",
       "      <td>24 inch bins</td>\n",
       "      <td>HOWDEN TYPE</td>\n",
       "      <td>NaN</td>\n",
       "      <td>NaN</td>\n",
       "      <td>10/01/2016</td>\n",
       "      <td>155.0</td>\n",
       "      <td>155.0</td>\n",
       "      <td>...</td>\n",
       "      <td>NaN</td>\n",
       "      <td>NaN</td>\n",
       "      <td>NaN</td>\n",
       "      <td>NaN</td>\n",
       "      <td>NaN</td>\n",
       "      <td>NaN</td>\n",
       "      <td>NaN</td>\n",
       "      <td>NaN</td>\n",
       "      <td>False</td>\n",
       "      <td>NaN</td>\n",
       "    </tr>\n",
       "    <tr>\n",
       "      <th>2</th>\n",
       "      <td>PUMPKINS</td>\n",
       "      <td>SAN FRANCISCO</td>\n",
       "      <td>Conventional</td>\n",
       "      <td>24 inch bins</td>\n",
       "      <td>HOWDEN TYPE</td>\n",
       "      <td>NaN</td>\n",
       "      <td>NaN</td>\n",
       "      <td>10/01/2016</td>\n",
       "      <td>155.0</td>\n",
       "      <td>155.0</td>\n",
       "      <td>...</td>\n",
       "      <td>NaN</td>\n",
       "      <td>NaN</td>\n",
       "      <td>NaN</td>\n",
       "      <td>NaN</td>\n",
       "      <td>NaN</td>\n",
       "      <td>NaN</td>\n",
       "      <td>NaN</td>\n",
       "      <td>NaN</td>\n",
       "      <td>False</td>\n",
       "      <td>NaN</td>\n",
       "    </tr>\n",
       "  </tbody>\n",
       "</table>\n",
       "<p>3 rows × 25 columns</p>\n",
       "</div>"
      ],
      "text/plain": [
       "  Commodity Name      City Name          Type       Package      Variety  \\\n",
       "0       PUMPKINS  SAN FRANCISCO  Conventional  24 inch bins  HOWDEN TYPE   \n",
       "1       PUMPKINS  SAN FRANCISCO  Conventional  24 inch bins  HOWDEN TYPE   \n",
       "2       PUMPKINS  SAN FRANCISCO  Conventional  24 inch bins  HOWDEN TYPE   \n",
       "\n",
       "  Sub Variety  Grade        Date  Low Price  High Price  ...  Color  \\\n",
       "0         NaN    NaN  09/24/2016      155.0       155.0  ...    NaN   \n",
       "1         NaN    NaN  10/01/2016      155.0       155.0  ...    NaN   \n",
       "2         NaN    NaN  10/01/2016      155.0       155.0  ...    NaN   \n",
       "\n",
       "   Environment Unit of Sale  Quality Condition Appearance  Storage  Crop  \\\n",
       "0          NaN          NaN      NaN       NaN        NaN      NaN   NaN   \n",
       "1          NaN          NaN      NaN       NaN        NaN      NaN   NaN   \n",
       "2          NaN          NaN      NaN       NaN        NaN      NaN   NaN   \n",
       "\n",
       "   Repack  Trans Mode  \n",
       "0   False         NaN  \n",
       "1   False         NaN  \n",
       "2   False         NaN  \n",
       "\n",
       "[3 rows x 25 columns]"
      ]
     },
     "execution_count": 8,
     "metadata": {},
     "output_type": "execute_result"
    }
   ],
   "source": [
    "# Fill the Missing Values in the Type Column\n",
    "data[\"Type\"] = data[\"Type\"].fillna(\"Conventional\")\n",
    "data.head(3)"
   ]
  },
  {
   "cell_type": "markdown",
   "id": "94b4c7ce",
   "metadata": {},
   "source": [
    "# Question 3\n",
    "\n",
    "Based on the information provided by our team, \"Grade\" is only applied to canned pumpkin.  \n",
    "These were all uncanned, whole pumpkins.  This column is irrelevant to the dataset.\n",
    "\n",
    "We are going to drop the column.  Do you agree with this choice?  Why or why not?"
   ]
  },
  {
   "cell_type": "code",
   "execution_count": 9,
   "id": "1302d998",
   "metadata": {},
   "outputs": [],
   "source": [
    "# Answer Question 3 here:\n",
    "#s,that column  is irrelevant to this data as we have whole pumpkins"
   ]
  },
  {
   "cell_type": "code",
   "execution_count": 10,
   "id": "ddf0ab8f",
   "metadata": {
    "scrolled": true
   },
   "outputs": [
    {
     "name": "stdout",
     "output_type": "stream",
     "text": [
      "(166, 25)\n"
     ]
    }
   ],
   "source": [
    "# Grade Column\n",
    "print(data.shape)\n",
    "data = data.drop([\"Grade\"], axis=1) \n"
   ]
  },
  {
   "cell_type": "code",
   "execution_count": 18,
   "id": "67e812d5",
   "metadata": {
    "tags": []
   },
   "outputs": [
    {
     "data": {
      "text/plain": [
       "(166, 22)"
      ]
     },
     "execution_count": 18,
     "metadata": {},
     "output_type": "execute_result"
    }
   ],
   "source": [
    "#Check with shape\n",
    "data.shape"
   ]
  },
  {
   "cell_type": "markdown",
   "id": "711bedbe",
   "metadata": {},
   "source": [
    "# Question 4\n",
    "\n",
    "Decide which columns are relevant and irrelevant as a group.\n",
    "\n",
    "Do you think any of the columns empty for a reason?  What reason do you think? \n",
    "Is this intentional or unintentional?  \n",
    "What do you think?"
   ]
  },
  {
   "cell_type": "code",
   "execution_count": 12,
   "id": "3236839d",
   "metadata": {},
   "outputs": [],
   "source": [
    "# Explain your rationale breifly here: \n",
    "#sub variety and environment coulms r irrelevant.customer does not bother  about the shape of the pumpkin and where it grown.unit of sales column is also missing.but this is important to analyse the data."
   ]
  },
  {
   "cell_type": "code",
   "execution_count": 4,
   "id": "ea0df42f",
   "metadata": {},
   "outputs": [
    {
     "data": {
      "text/plain": [
       "(166, 23)"
      ]
     },
     "execution_count": 4,
     "metadata": {},
     "output_type": "execute_result"
    }
   ],
   "source": [
    "# Drop the ones you decide are irrelevant using the code we used to drop the \"Grade Column\"\n",
    "data = data.drop([\"Sub Variety\"],axis=1)\n",
    "data = data.drop(['Environment'],axis=1)\n",
    "data.shape"
   ]
  },
  {
   "cell_type": "markdown",
   "id": "66ac7337",
   "metadata": {},
   "source": [
    "# Question 5:\n",
    "\n",
    "Plot the outliers for them.\n",
    "histogram of date vs. sales\n",
    "\n",
    "\n",
    "What do you think about the dates?  "
   ]
  },
  {
   "cell_type": "code",
   "execution_count": 40,
   "id": "04a97f78",
   "metadata": {},
   "outputs": [
    {
     "data": {
      "text/plain": [
       "<Axes: >"
      ]
     },
     "execution_count": 40,
     "metadata": {},
     "output_type": "execute_result"
    },
    {
     "data": {
      "image/png": "[encoded data removed]",
      "text/plain": [
       "<Figure size 2500x1000 with 1 Axes>"
      ]
     },
     "metadata": {},
     "output_type": "display_data"
    }
   ],
   "source": [
    "# Answer 5 here:\n",
    "#data.hist(column='Unit of Sale',figsize=(10,10),bins=20)\n",
    "#plt.show()\n",
    "data['Date'].hist()\n",
    "data['Unit of Sale'].hist(figsize=(25,10),bins=30)"
   ]
  },
  {
   "cell_type": "code",
   "execution_count": 15,
   "id": "11aa94a9",
   "metadata": {},
   "outputs": [
    {
     "data": {
      "text/plain": [
       "<Axes: xlabel='Date'>"
      ]
     },
     "execution_count": 15,
     "metadata": {},
     "output_type": "execute_result"
    },
    {
     "data": {
      "image/png": "[encoded data removed]",
      "text/plain": [
       "<Figure size 640x480 with 1 Axes>"
      ]
     },
     "metadata": {},
     "output_type": "display_data"
    }
   ],
   "source": [
    "# # bar chart -  distribution of a categorical variable\n",
    "data['Date'].value_counts().plot.bar()"
   ]
  },
  {
   "cell_type": "code",
   "execution_count": 41,
   "id": "77d6e9a9",
   "metadata": {},
   "outputs": [
    {
     "data": {
      "text/plain": [
       "([0, 1, 2, 3, 4, 5, 6, 7, 8, 9, 10, 11, 12, 13, 14, 15, 16, 17, 18],\n",
       " [Text(0, 0, '09/24/2016'),\n",
       "  Text(1, 0, '10/01/2016'),\n",
       "  Text(2, 0, '10/08/2016'),\n",
       "  Text(3, 0, '10/15/2016'),\n",
       "  Text(4, 0, '10/22/2016'),\n",
       "  Text(5, 0, '10/29/2016'),\n",
       "  Text(6, 0, '11/05/2016'),\n",
       "  Text(7, 0, '11/12/2016'),\n",
       "  Text(8, 0, '09/09/2017'),\n",
       "  Text(9, 0, '09/16/2017'),\n",
       "  Text(10, 0, '09/23/2017'),\n",
       "  Text(11, 0, '09/30/2017'),\n",
       "  Text(12, 0, '11/19/2016'),\n",
       "  Text(13, 0, '11/26/2016'),\n",
       "  Text(14, 0, '12/03/2016'),\n",
       "  Text(15, 0, '12/10/2016'),\n",
       "  Text(16, 0, '01/07/2017'),\n",
       "  Text(17, 0, '01/14/2017'),\n",
       "  Text(18, 0, '09/02/2017')])"
      ]
     },
     "execution_count": 41,
     "metadata": {},
     "output_type": "execute_result"
    },
    {
     "data": {
      "image/png": "[encoded data removed]",
      "text/plain": [
       "<Figure size 640x480 with 1 Axes>"
      ]
     },
     "metadata": {},
     "output_type": "display_data"
    }
   ],
   "source": [
    "# # histogram of dates.\n",
    "data['Date'].hist(bins=50)\n",
    "plt.xticks(rotation=90)\n",
    "\n",
    "#ignore the lists above the histogram for right now.  Examine the histogram."
   ]
  },
  {
   "cell_type": "markdown",
   "id": "dde3d3bf",
   "metadata": {},
   "source": [
    "# Question 6:\n",
    "\n",
    "Are there any points in this data set that you worry about inconsistencies? \n",
    "Where?  What would you want to check?  Why?"
   ]
  },
  {
   "cell_type": "code",
   "execution_count": 17,
   "id": "e76d67dd",
   "metadata": {},
   "outputs": [],
   "source": [
    "# Answer Question 6 here: \n",
    "\n"
   ]
  },
  {
   "cell_type": "markdown",
   "id": "91b4f663",
   "metadata": {},
   "source": [
    "# Bonus Mission\n",
    "\n",
    "Fix the LA page at this link: [A Year of Pumpkin Prices](https://www.kaggle.com/usda/a-year-of-pumpkin-prices)"
   ]
  },
  {
   "cell_type": "code",
   "execution_count": 45,
   "id": "40f72977",
   "metadata": {
    "tags": []
   },
   "outputs": [
    {
     "data": {
      "text/plain": [
       "Variety\n",
       "MINIATURE                   64\n",
       "PIE TYPE                    45\n",
       "HOWDEN TYPE                 37\n",
       "MIXED HEIRLOOM VARIETIES     8\n",
       "BIG MACK TYPE                5\n",
       "CINDERELLA                   3\n",
       "FAIRYTALE                    3\n",
       "BLUE TYPE                    1\n",
       "Name: count, dtype: int64"
      ]
     },
     "execution_count": 45,
     "metadata": {},
     "output_type": "execute_result"
    }
   ],
   "source": [
    "data['Variety'].value_counts()"
   ]
  }
 ],
 "metadata": {
  "kernelspec": {
   "display_name": "Python 3 (ipykernel)",
   "language": "python",
   "name": "python3"
  },
  "language_info": {
   "codemirror_mode": {
    "name": "ipython",
    "version": 3
   },
   "file_extension": ".py",
   "mimetype": "text/x-python",
   "name": "python",
   "nbconvert_exporter": "python",
   "pygments_lexer": "ipython3",
   "version": "3.9.4"
  }
 },
 "nbformat": 4,
 "nbformat_minor": 5
}
